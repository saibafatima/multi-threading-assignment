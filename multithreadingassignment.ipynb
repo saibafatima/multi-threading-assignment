{
 "cells": [
  {
   "cell_type": "code",
   "execution_count": null,
   "id": "af6fb6f6-ae0c-4ebe-a088-7525f6fd6208",
   "metadata": {},
   "outputs": [],
   "source": []
  },
  {
   "cell_type": "code",
   "execution_count": 2,
   "id": "a61f63b4-0205-40e0-8509-2b919687bd8f",
   "metadata": {},
   "outputs": [],
   "source": [
    "#1. What is multithreading in Python? Why is it used? Name the module used to handle threads in Python"
   ]
  },
  {
   "cell_type": "code",
   "execution_count": 3,
   "id": "696820ab-f407-4cb2-818e-2788ee0ae129",
   "metadata": {},
   "outputs": [],
   "source": [
    "#What is multithreading in Python?\n",
    "\n",
    "#Multithreading in Python is a way to execute multiple threads or flows of execution concurrently, improving the overall performance and responsiveness of a program. Each thread runs in parallel, sharing the same memory space and resources.\n",
    "\n",
    "#Why is it used?\n",
    "\n",
    "#Multithreading is used to:\n",
    "\n",
    "#Improve responsiveness: By running tasks in parallel, a program can respond more quickly to user input and other events.\n",
    "#Increase throughput: By executing multiple tasks concurrently, a program can process more data in less time.\n",
    "#Simplify programming: Multithreading can make it easier to write programs that perform multiple tasks simultaneously.\n",
    "#Name the module used to handle threads in Python\n",
    "\n",
    "#The module used to handle threads in Python is the threading module."
   ]
  },
  {
   "cell_type": "code",
   "execution_count": 4,
   "id": "df2406bb-4168-4410-8987-69265dd6b848",
   "metadata": {},
   "outputs": [],
   "source": [
    "#.2 why threading module used? rite the use of the following functions:"
   ]
  },
  {
   "cell_type": "code",
   "execution_count": 5,
   "id": "100575fe-6aa2-4759-8e1a-491e14e26a43",
   "metadata": {},
   "outputs": [],
   "source": [
    "#The threading module is used to create and manage threads in Python. It provides a way to execute multiple threads concurrently, allowing a program to take advantage of multiple CPU cores and improve responsiveness.\n",
    "\n",
    "#Why is the threading module used?\n",
    "\n",
    "#The threading module is used because it provides a high-level interface for creating and managing threads, making it easier to write concurrent programs. It also provides a way to synchronize threads, ensuring that shared resources are accessed safely."
   ]
  },
  {
   "cell_type": "code",
   "execution_count": 6,
   "id": "fe34f417-4d5b-46ff-aa64-008a34211390",
   "metadata": {},
   "outputs": [
    {
     "name": "stdout",
     "output_type": "stream",
     "text": [
      "Worker thread\n",
      "Active threads: 8\n"
     ]
    },
    {
     "name": "stderr",
     "output_type": "stream",
     "text": [
      "/tmp/ipykernel_70/1446801409.py:11: DeprecationWarning: activeCount() is deprecated, use active_count() instead\n",
      "  print(\"Active threads:\", threading.activeCount())  # Output: 2\n"
     ]
    }
   ],
   "source": [
    "#active account\n",
    "\n",
    "import threading\n",
    "\n",
    "def worker():\n",
    "    print(\"Worker thread\")\n",
    "\n",
    "t = threading.Thread(target=worker)\n",
    "t.start()\n",
    "\n",
    "print(\"Active threads:\", threading.activeCount())  # Output: 2"
   ]
  },
  {
   "cell_type": "code",
   "execution_count": 7,
   "id": "d043d995-41e8-43d1-b372-bceecc268c3f",
   "metadata": {},
   "outputs": [
    {
     "name": "stdout",
     "output_type": "stream",
     "text": [
      "Current thread: <Thread(Thread-6 (worker), started 140050654275136)>\n"
     ]
    },
    {
     "name": "stderr",
     "output_type": "stream",
     "text": [
      "/tmp/ipykernel_70/2202344181.py:5: DeprecationWarning: currentThread() is deprecated, use current_thread() instead\n",
      "  print(\"Current thread:\", threading.currentThread())\n"
     ]
    }
   ],
   "source": [
    "#current thread\n",
    "import threading\n",
    "\n",
    "def worker():\n",
    "    print(\"Current thread:\", threading.currentThread())\n",
    "\n",
    "t = threading.Thread(target=worker)\n",
    "t.start()\n"
   ]
  },
  {
   "cell_type": "code",
   "execution_count": 8,
   "id": "83338845-af7f-4b54-b882-fbc6732e4306",
   "metadata": {},
   "outputs": [
    {
     "name": "stdout",
     "output_type": "stream",
     "text": [
      "Worker thread\n",
      "Worker thread\n",
      "All threads: [<_MainThread(MainThread, started 140051007117120)>, <Thread(IOPub, started daemon 140050936587840)>, <Heartbeat(Heartbeat, started daemon 140050928195136)>, <Thread(Thread-3 (_watch_pipe_fd), started daemon 140050696238656)>, <Thread(Thread-4 (_watch_pipe_fd), started daemon 140050687845952)>, <ControlThread(Control, started daemon 140050679453248)>, <HistorySavingThread(IPythonHistorySavingThread, started 140050671060544)>, <ParentPollerUnix(Thread-2, started daemon 140050662667840)>]\n"
     ]
    }
   ],
   "source": [
    "#enumerate\n",
    "\n",
    "import threading\n",
    "\n",
    "def worker():\n",
    "    print(\"Worker thread\")\n",
    "\n",
    "t1 = threading.Thread(target=worker)\n",
    "t2 = threading.Thread(target=worker)\n",
    "\n",
    "t1.start()\n",
    "t2.start()\n",
    "\n",
    "print(\"All threads:\", threading.enumerate())  # Output: [MainThread, Thread-1, Thread-2]\n"
   ]
  },
  {
   "cell_type": "code",
   "execution_count": 9,
   "id": "e69701d9-20bf-4560-85d1-54d631c3fe84",
   "metadata": {},
   "outputs": [
    {
     "name": "stdout",
     "output_type": "stream",
     "text": [
      "Hello from thread!\n"
     ]
    }
   ],
   "source": [
    "# q3. 3. Explain the following functions:\n",
    "\n",
    "# run()\n",
    "\n",
    "import threading\n",
    "\n",
    "class MyThread(threading.Thread):\n",
    "    def run(self):\n",
    "        print(\"Hello from thread!\")\n",
    "\n",
    "t = MyThread()\n",
    "t.start()  # Output: Hello from thread!\n"
   ]
  },
  {
   "cell_type": "code",
   "execution_count": 10,
   "id": "043f58b8-db36-43b4-96bf-295f62dec834",
   "metadata": {},
   "outputs": [
    {
     "name": "stdout",
     "output_type": "stream",
     "text": [
      "Hello from thread!\n"
     ]
    }
   ],
   "source": [
    "#start function\n",
    "\n",
    "import threading\n",
    "\n",
    "def worker():\n",
    "    print(\"Hello from thread!\")\n",
    "\n",
    "t = threading.Thread(target=worker)\n",
    "t.start()  # Output: Hello from thread!"
   ]
  },
  {
   "cell_type": "code",
   "execution_count": 11,
   "id": "2eedb017-ac7f-4c9a-a021-3cb066c220f0",
   "metadata": {},
   "outputs": [
    {
     "name": "stdout",
     "output_type": "stream",
     "text": [
      "Hello from thread!\n",
      "Thread finished!\n",
      "Main thread continues...\n"
     ]
    }
   ],
   "source": [
    "#join function \n",
    "import threading\n",
    "import time\n",
    "\n",
    "def worker():\n",
    "    print(\"Hello from thread!\")\n",
    "    time.sleep(2)\n",
    "    print(\"Thread finished!\")\n",
    "\n",
    "t = threading.Thread(target=worker)\n",
    "t.start()\n",
    "t.join()  # Wait for the thread to finish\n",
    "print(\"Main thread continues...\")"
   ]
  },
  {
   "cell_type": "code",
   "execution_count": 12,
   "id": "08a85148-3f2d-4652-9f96-c239948a1aeb",
   "metadata": {},
   "outputs": [
    {
     "name": "stdout",
     "output_type": "stream",
     "text": [
      "Hello from thread!\n"
     ]
    },
    {
     "ename": "AttributeError",
     "evalue": "'Thread' object has no attribute 'isAlive'",
     "output_type": "error",
     "traceback": [
      "\u001b[0;31m---------------------------------------------------------------------------\u001b[0m",
      "\u001b[0;31mAttributeError\u001b[0m                            Traceback (most recent call last)",
      "Cell \u001b[0;32mIn[12], line 13\u001b[0m\n\u001b[1;32m     11\u001b[0m t \u001b[38;5;241m=\u001b[39m threading\u001b[38;5;241m.\u001b[39mThread(target\u001b[38;5;241m=\u001b[39mworker)\n\u001b[1;32m     12\u001b[0m t\u001b[38;5;241m.\u001b[39mstart()\n\u001b[0;32m---> 13\u001b[0m \u001b[38;5;28mprint\u001b[39m(\u001b[38;5;124m\"\u001b[39m\u001b[38;5;124mIs thread alive?\u001b[39m\u001b[38;5;124m\"\u001b[39m, \u001b[43mt\u001b[49m\u001b[38;5;241;43m.\u001b[39;49m\u001b[43misAlive\u001b[49m())  \u001b[38;5;66;03m# Output: True\u001b[39;00m\n\u001b[1;32m     14\u001b[0m time\u001b[38;5;241m.\u001b[39msleep(\u001b[38;5;241m3\u001b[39m)\n\u001b[1;32m     15\u001b[0m \u001b[38;5;28mprint\u001b[39m(\u001b[38;5;124m\"\u001b[39m\u001b[38;5;124mIs thread alive?\u001b[39m\u001b[38;5;124m\"\u001b[39m, t\u001b[38;5;241m.\u001b[39misAlive())  \u001b[38;5;66;03m# Output: False\u001b[39;00m\n",
      "\u001b[0;31mAttributeError\u001b[0m: 'Thread' object has no attribute 'isAlive'"
     ]
    },
    {
     "name": "stdout",
     "output_type": "stream",
     "text": [
      "Thread finished!\n"
     ]
    }
   ],
   "source": [
    "#is alive function\n",
    "\n",
    "import threading\n",
    "import time\n",
    "\n",
    "def worker():\n",
    "    print(\"Hello from thread!\")\n",
    "    time.sleep(2)\n",
    "    print(\"Thread finished!\")\n",
    "\n",
    "t = threading.Thread(target=worker)\n",
    "t.start()\n",
    "print(\"Is thread alive?\", t.isAlive())  # Output: True\n",
    "time.sleep(3)\n",
    "print(\"Is thread alive?\", t.isAlive())  # Output: False"
   ]
  },
  {
   "cell_type": "code",
   "execution_count": 13,
   "id": "57c01155-f10f-401b-a77b-c7c1ba50a9c8",
   "metadata": {},
   "outputs": [],
   "source": [
    "# 4. write a python program to create two threads. Thread one must print the list of squares and thread\n",
    "#two must print the list of cubes"
   ]
  },
  {
   "cell_type": "code",
   "execution_count": 14,
   "id": "5ca863df-367c-4f66-b9bb-666641233281",
   "metadata": {},
   "outputs": [
    {
     "name": "stdout",
     "output_type": "stream",
     "text": [
      "Squares:\n",
      "1\n",
      "4\n",
      "9\n",
      "16\n",
      "25\n",
      "Cubes:\n",
      "1\n",
      "8\n",
      "27\n",
      "64\n",
      "125\n",
      "All threads finished!\n"
     ]
    }
   ],
   "source": [
    "import threading\n",
    "\n",
    "def print_squares(numbers):\n",
    "    print(\"Squares:\")\n",
    "    for num in numbers:\n",
    "        print(num ** 2)\n",
    "\n",
    "def print_cubes(numbers):\n",
    "    print(\"Cubes:\")\n",
    "    for num in numbers:\n",
    "        print(num ** 3)\n",
    "\n",
    "numbers = [1, 2, 3, 4, 5]\n",
    "\n",
    "# Create two threads\n",
    "thread1 = threading.Thread(target=print_squares, args=(numbers,))\n",
    "thread2 = threading.Thread(target=print_cubes, args=(numbers,))\n",
    "\n",
    "# Start the threads\n",
    "thread1.start()\n",
    "thread2.start()\n",
    "\n",
    "# Wait for both threads to finish\n",
    "thread1.join()\n",
    "thread2.join()\n",
    "\n",
    "print(\"All threads finished!\")"
   ]
  },
  {
   "cell_type": "code",
   "execution_count": 15,
   "id": "cd962b8e-619d-48d9-9ae4-3a769913fc32",
   "metadata": {},
   "outputs": [],
   "source": [
    "# 5. State advantages and disadvantages of multithreading"
   ]
  },
  {
   "cell_type": "code",
   "execution_count": 16,
   "id": "d85b66eb-c209-42a7-875b-fb104d3f657a",
   "metadata": {},
   "outputs": [],
   "source": [
    "#advantages of multithreading\n",
    "\n",
    "#1. improved responses\n",
    "#2. increased throughput\n",
    "##4. faster execution\n",
    "\n",
    "#5.simplifies program structure\n",
    "#6. improved user experience\n",
    "\n",
    "#disadvantages of multithreading\n",
    "#1.increased complexity\n",
    "#2.synchronization challenges\n",
    "#3. context switching overhead\n",
    "#4. debugging difficulties\n",
    "#5. resource contention\n",
    "#6. platform dependence\n",
    "#7. starvation and deadlocks\n",
    "#8. testing challenges"
   ]
  },
  {
   "cell_type": "code",
   "execution_count": 17,
   "id": "511e85c0-07c8-45f6-8948-18fe3284a3ee",
   "metadata": {},
   "outputs": [],
   "source": [
    "#6. Explain deadlocks and race conditions."
   ]
  },
  {
   "cell_type": "code",
   "execution_count": 19,
   "id": "de3c5d9c-7019-4573-8982-aa15e9ba5cc6",
   "metadata": {},
   "outputs": [],
   "source": [
    "#Deadlocks:\n",
    "\n",
    "#A deadlock is a situation in which two or more threads are blocked indefinitely, each waiting for the other to release a resource. This creates a circular dependency, where each thread is waiting for another thread to complete its task, but none of them can proceed because they are all waiting for each other.\n",
    "\n",
    "#Conditions for a Deadlock:\n",
    "\n",
    "#For a deadlock to occur, the following four conditions must be met:\n",
    "\n",
    "#Mutual Exclusion: Two or more threads must be competing for a common resource that can only be accessed by one thread at a time.\n",
    "#Hold and Wait: One thread must be holding a resource and waiting for another resource, which is held by another thread.\n",
    "#No Preemption: The operating system must not be able to preempt one thread and give the resource to another thread.\n",
    "#Circular Wait: The threads must be waiting for each other to release the resource, creating a circular dependency.\n",
    "\n"
   ]
  },
  {
   "cell_type": "code",
   "execution_count": 20,
   "id": "a46b48f2-fefd-4280-aad9-f343a65020ad",
   "metadata": {},
   "outputs": [],
   "source": [
    "#race conditions\n",
    "#Race Conditions:\n",
    "\n",
    "#A race condition occurs when two or more threads access shared data simultaneously, and the outcome depends on the order in which the threads access the data. This can lead to unpredictable behavior, errors, or inconsistencies in the program.\n",
    "\n",
    "#Types of Race Conditions:\n",
    "\n",
    "#Read-Write Race: When one thread is writing to a shared variable, and another thread is reading from it, the read operation may return an inconsistent or outdated value.\n",
    "#Write-Write Race: When two or more threads are writing to a shared variable simultaneously, the final value may be unpredictable or incorrect.\n",
    "#Example of a Race Condition:\n",
    "\n",
    "#Suppose we have two threads, T1 and T2, and a shared variable x initialized to 0. The threads are executing the following code:"
   ]
  },
  {
   "cell_type": "code",
   "execution_count": null,
   "id": "08074528-9eb2-4ba2-ac58-f99bdb2f9184",
   "metadata": {},
   "outputs": [],
   "source": []
  }
 ],
 "metadata": {
  "kernelspec": {
   "display_name": "Python 3 (ipykernel)",
   "language": "python",
   "name": "python3"
  },
  "language_info": {
   "codemirror_mode": {
    "name": "ipython",
    "version": 3
   },
   "file_extension": ".py",
   "mimetype": "text/x-python",
   "name": "python",
   "nbconvert_exporter": "python",
   "pygments_lexer": "ipython3",
   "version": "3.10.8"
  }
 },
 "nbformat": 4,
 "nbformat_minor": 5
}
